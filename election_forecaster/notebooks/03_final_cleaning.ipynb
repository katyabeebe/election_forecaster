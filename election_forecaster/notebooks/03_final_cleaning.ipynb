{
 "cells": [
  {
   "cell_type": "markdown",
   "id": "b2c6c6c4-7c0f-469e-8ffc-0b3ce2134efa",
   "metadata": {},
   "source": [
    "Some dates are missing from each scenario. For now, I forward fill using the latest estimate. In another iteration of the model, I would try to leverage national poll data (after some preprocessing) to capture any more recent trends since national polls run more frequently. "
   ]
  },
  {
   "cell_type": "code",
   "execution_count": 1,
   "id": "d19f671a-5149-4f7b-bd32-39fb01d56ff0",
   "metadata": {},
   "outputs": [],
   "source": [
    "import os\n",
    "import pandas as pd"
   ]
  },
  {
   "cell_type": "code",
   "execution_count": 2,
   "id": "4a2a2bd4-a750-498e-8ec7-122ac3512f71",
   "metadata": {},
   "outputs": [],
   "source": [
    "# load national results\n",
    "\n",
    "directory = '/Users/kbeebe/Desktop/economist_forecasting/election_forecaster/election_forecaster/results/'\n",
    "\n",
    "filelist_national = [file for file in os.listdir(directory) if file.startswith('national')]\n",
    "filelist_provincial = [file for file in os.listdir(directory) if file.startswith('provincial')]\n",
    "\n",
    "# Define start and end of campaign\n",
    "campaign_start = \"2024-04-02\"\n",
    "election_day = \"2024-06-15\"\n",
    "\n",
    "# Define the complete date range\n",
    "date_range = pd.date_range(start='2024-04-02', end='2024-06-16', freq='D')\n",
    "\n",
    "# Create a template DataFrame with the complete date range\n",
    "template_df = pd.DataFrame({'date': date_range})"
   ]
  },
  {
   "cell_type": "code",
   "execution_count": 3,
   "id": "7c5dd875-5b16-423c-8638-db8d5d78a4b1",
   "metadata": {},
   "outputs": [],
   "source": [
    "# Load each file, merge with the template DataFrame, and forward fill missing values\n",
    "for file in filelist_national:\n",
    "    # Read the CSV file\n",
    "    df = pd.read_csv(os.path.join(directory, file))\n",
    "    df['date']=pd.DatetimeIndex(df['date'])\n",
    "    \n",
    "    # Merge with the template DataFrame on 'Date' column and forward fill missing values\n",
    "    df = pd.merge(template_df, df, on='date', how='left')\n",
    "    df = df.ffill()\n",
    "    \n",
    "    # Save the updated DataFrame\n",
    "    df.to_csv(os.path.join(directory, file), index=False)"
   ]
  },
  {
   "cell_type": "code",
   "execution_count": 6,
   "id": "d3833ebf-92da-45ce-9adc-62c08c281909",
   "metadata": {},
   "outputs": [],
   "source": [
    "# Load each file, merge with the template DataFrame, and forward fill missing values\n",
    "# Create an empty dictionary to store DataFrames by province\n",
    "dfs_by_province = {}\n",
    "for file in filelist_provincial:\n",
    "    # Read the CSV file\n",
    "    df = pd.read_csv(os.path.join(directory, file))\n",
    "    df['date']=pd.DatetimeIndex(df['date'])\n",
    "    \n",
    "    # Group by province and forward fill missing values within each group\n",
    "    grouped = df.groupby('province')\n",
    "    filled_dfs = []\n",
    "    for province, group_df in grouped:\n",
    "        merged_df = pd.merge(template_df, group_df, on='date', how='left')\n",
    "        filled_df = merged_df.ffill()\n",
    "        filled_dfs.append(filled_df)\n",
    "    \n",
    "    # Combine the filled DataFrames for each province and store in the dictionary\n",
    "    result_df = pd.concat(filled_dfs)\n",
    "    dfs_by_province[file] = result_df\n",
    "    \n",
    "    # Save the updated DataFrame\n",
    "    result_df.to_csv(os.path.join(directory, file), index=False)"
   ]
  },
  {
   "cell_type": "code",
   "execution_count": null,
   "id": "41c5da85-1a04-433d-be8e-de60242b5658",
   "metadata": {},
   "outputs": [],
   "source": []
  }
 ],
 "metadata": {
  "kernelspec": {
   "display_name": "Python 3 (ipykernel)",
   "language": "python",
   "name": "python3"
  },
  "language_info": {
   "codemirror_mode": {
    "name": "ipython",
    "version": 3
   },
   "file_extension": ".py",
   "mimetype": "text/x-python",
   "name": "python",
   "nbconvert_exporter": "python",
   "pygments_lexer": "ipython3",
   "version": "3.9.13"
  }
 },
 "nbformat": 4,
 "nbformat_minor": 5
}
